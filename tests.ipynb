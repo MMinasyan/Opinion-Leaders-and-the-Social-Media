{
 "metadata": {
  "language_info": {
   "codemirror_mode": {
    "name": "ipython",
    "version": 3
   },
   "file_extension": ".py",
   "mimetype": "text/x-python",
   "name": "python",
   "nbconvert_exporter": "python",
   "pygments_lexer": "ipython3",
   "version": "3.7.9"
  },
  "orig_nbformat": 2,
  "kernelspec": {
   "name": "python379jvsc74a57bd0b3ba2566441a7c06988d0923437866b63cedc61552a5af99d1f4fb67d367b25f",
   "display_name": "Python 3.7.9 64-bit (conda)"
  }
 },
 "nbformat": 4,
 "nbformat_minor": 2,
 "cells": [
  {
   "cell_type": "code",
   "execution_count": 1,
   "metadata": {},
   "outputs": [],
   "source": [
    "import pandas as pd\n",
    "from statsmodels.tsa.stattools import adfuller"
   ]
  },
  {
   "cell_type": "code",
   "execution_count": 2,
   "metadata": {},
   "outputs": [
    {
     "output_type": "execute_result",
     "data": {
      "text/plain": [
       "                           cantidate  candidate_ol     party  party_ol\n",
       "created_at                                                            \n",
       "2020-09-09 00:00:00+00:00   0.172066      0.199928  0.411765  0.538462\n",
       "2020-09-09 12:00:00+00:00   0.177690      0.224138  0.281155  0.457627\n",
       "2020-09-10 00:00:00+00:00   0.140400      0.184467  0.192140  0.194444\n",
       "2020-09-10 12:00:00+00:00   0.103110      0.144796  0.363636  0.400000\n",
       "2020-09-11 00:00:00+00:00   0.291983      0.339181  0.295455  0.400000"
      ],
      "text/html": "<div>\n<style scoped>\n    .dataframe tbody tr th:only-of-type {\n        vertical-align: middle;\n    }\n\n    .dataframe tbody tr th {\n        vertical-align: top;\n    }\n\n    .dataframe thead th {\n        text-align: right;\n    }\n</style>\n<table border=\"1\" class=\"dataframe\">\n  <thead>\n    <tr style=\"text-align: right;\">\n      <th></th>\n      <th>cantidate</th>\n      <th>candidate_ol</th>\n      <th>party</th>\n      <th>party_ol</th>\n    </tr>\n    <tr>\n      <th>created_at</th>\n      <th></th>\n      <th></th>\n      <th></th>\n      <th></th>\n    </tr>\n  </thead>\n  <tbody>\n    <tr>\n      <th>2020-09-09 00:00:00+00:00</th>\n      <td>0.172066</td>\n      <td>0.199928</td>\n      <td>0.411765</td>\n      <td>0.538462</td>\n    </tr>\n    <tr>\n      <th>2020-09-09 12:00:00+00:00</th>\n      <td>0.177690</td>\n      <td>0.224138</td>\n      <td>0.281155</td>\n      <td>0.457627</td>\n    </tr>\n    <tr>\n      <th>2020-09-10 00:00:00+00:00</th>\n      <td>0.140400</td>\n      <td>0.184467</td>\n      <td>0.192140</td>\n      <td>0.194444</td>\n    </tr>\n    <tr>\n      <th>2020-09-10 12:00:00+00:00</th>\n      <td>0.103110</td>\n      <td>0.144796</td>\n      <td>0.363636</td>\n      <td>0.400000</td>\n    </tr>\n    <tr>\n      <th>2020-09-11 00:00:00+00:00</th>\n      <td>0.291983</td>\n      <td>0.339181</td>\n      <td>0.295455</td>\n      <td>0.400000</td>\n    </tr>\n  </tbody>\n</table>\n</div>"
     },
     "metadata": {},
     "execution_count": 2
    }
   ],
   "source": [
    "df = pd.read_csv('Data\\\\final_data.csv').set_index('created_at')\n",
    "df.head()"
   ]
  },
  {
   "source": [
    "# Augmented Dickey–Fuller test"
   ],
   "cell_type": "markdown",
   "metadata": {}
  },
  {
   "cell_type": "code",
   "execution_count": 3,
   "metadata": {},
   "outputs": [],
   "source": [
    "def uroot(x):\n",
    "    X = x.values\n",
    "    result = adfuller(X)\n",
    "    print('ADF Statistic: %f' % result[0])\n",
    "    print('p-value: %f' % result[1])\n",
    "    print('Critical Values:')\n",
    "    for key, value in result[4].items():\n",
    "        \tprint('\\t%s: %.3f' % (key, value))"
   ]
  },
  {
   "cell_type": "code",
   "execution_count": 4,
   "metadata": {},
   "outputs": [
    {
     "output_type": "stream",
     "name": "stdout",
     "text": [
      "cantidate\nADF Statistic: -2.403062\np-value: 0.140874\nCritical Values:\n\t1%: -3.508\n\t5%: -2.895\n\t10%: -2.585\n\n\ncandidate_ol\nADF Statistic: -3.510198\np-value: 0.007729\nCritical Values:\n\t1%: -3.509\n\t5%: -2.896\n\t10%: -2.585\n\n\nparty\nADF Statistic: -4.215707\np-value: 0.000620\nCritical Values:\n\t1%: -3.502\n\t5%: -2.893\n\t10%: -2.583\n\n\nparty_ol\nADF Statistic: -4.562138\np-value: 0.000152\nCritical Values:\n\t1%: -3.502\n\t5%: -2.893\n\t10%: -2.583\n\n\n"
     ]
    }
   ],
   "source": [
    "for c in df.columns:\n",
    "    print(c)\n",
    "    uroot(df[c])\n",
    "    print('\\n')"
   ]
  },
  {
   "cell_type": "code",
   "execution_count": null,
   "metadata": {},
   "outputs": [],
   "source": []
  }
 ]
}